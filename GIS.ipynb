{
  "nbformat": 4,
  "nbformat_minor": 0,
  "metadata": {
    "colab": {
      "provenance": [],
      "authorship_tag": "ABX9TyN2ie4sScKVLTeDtZX2PF/R",
      "include_colab_link": true
    },
    "kernelspec": {
      "name": "python3",
      "display_name": "Python 3"
    },
    "language_info": {
      "name": "python"
    }
  },
  "cells": [
    {
      "cell_type": "markdown",
      "metadata": {
        "id": "view-in-github",
        "colab_type": "text"
      },
      "source": [
        "<a href=\"https://colab.research.google.com/github/Naveen-Thallapally/Naveen_Thallapally/blob/main/GIS.ipynb\" target=\"_parent\"><img src=\"https://colab.research.google.com/assets/colab-badge.svg\" alt=\"Open In Colab\"/></a>"
      ]
    },
    {
      "cell_type": "code",
      "execution_count": 1,
      "metadata": {
        "id": "CuIJ7s---gN3",
        "colab": {
          "base_uri": "https://localhost:8080/"
        },
        "outputId": "aaae59e0-d2a8-415e-8294-10846079896f"
      },
      "outputs": [
        {
          "output_type": "stream",
          "name": "stdout",
          "text": [
            "Requirement already satisfied: requests in /usr/local/lib/python3.10/dist-packages (2.31.0)\n",
            "Requirement already satisfied: charset-normalizer<4,>=2 in /usr/local/lib/python3.10/dist-packages (from requests) (3.3.2)\n",
            "Requirement already satisfied: idna<4,>=2.5 in /usr/local/lib/python3.10/dist-packages (from requests) (3.6)\n",
            "Requirement already satisfied: urllib3<3,>=1.21.1 in /usr/local/lib/python3.10/dist-packages (from requests) (2.0.7)\n",
            "Requirement already satisfied: certifi>=2017.4.17 in /usr/local/lib/python3.10/dist-packages (from requests) (2023.11.17)\n"
          ]
        }
      ],
      "source": [
        "pip install requests"
      ]
    },
    {
      "cell_type": "code",
      "source": [
        "pip install BeautifulSoup"
      ],
      "metadata": {
        "colab": {
          "base_uri": "https://localhost:8080/"
        },
        "id": "crrBwIxwC0F4",
        "outputId": "3c642e19-de6e-48eb-a16e-9ff4fe3de8ba"
      },
      "execution_count": 2,
      "outputs": [
        {
          "output_type": "stream",
          "name": "stdout",
          "text": [
            "Collecting BeautifulSoup\n",
            "  Downloading BeautifulSoup-3.2.2.tar.gz (32 kB)\n",
            "  \u001b[1;31merror\u001b[0m: \u001b[1msubprocess-exited-with-error\u001b[0m\n",
            "  \n",
            "  \u001b[31m×\u001b[0m \u001b[32mpython setup.py egg_info\u001b[0m did not run successfully.\n",
            "  \u001b[31m│\u001b[0m exit code: \u001b[1;36m1\u001b[0m\n",
            "  \u001b[31m╰─>\u001b[0m See above for output.\n",
            "  \n",
            "  \u001b[1;35mnote\u001b[0m: This error originates from a subprocess, and is likely not a problem with pip.\n",
            "  Preparing metadata (setup.py) ... \u001b[?25l\u001b[?25herror\n",
            "\u001b[1;31merror\u001b[0m: \u001b[1mmetadata-generation-failed\u001b[0m\n",
            "\n",
            "\u001b[31m×\u001b[0m Encountered error while generating package metadata.\n",
            "\u001b[31m╰─>\u001b[0m See above for output.\n",
            "\n",
            "\u001b[1;35mnote\u001b[0m: This is an issue with the package mentioned above, not pip.\n",
            "\u001b[1;36mhint\u001b[0m: See above for details.\n"
          ]
        }
      ]
    },
    {
      "cell_type": "code",
      "source": [
        "import requests\n",
        "from bs4 import BeautifulSoup\n",
        "import pandas as pd"
      ],
      "metadata": {
        "id": "AuAbzBWCC0Ig"
      },
      "execution_count": 16,
      "outputs": []
    },
    {
      "cell_type": "code",
      "source": [
        "rss_url = 'https://news.google.com/rss/search?q=green+hydrogen&hl=en-IN&gl=IN&ceid=IN:en'\n"
      ],
      "metadata": {
        "id": "1th3bqiaDOb0"
      },
      "execution_count": 5,
      "outputs": []
    },
    {
      "cell_type": "code",
      "source": [
        "response = requests.get(rss_url)\n",
        "xml_data = response.text\n"
      ],
      "metadata": {
        "id": "WcegAw0hDOd4"
      },
      "execution_count": 6,
      "outputs": []
    },
    {
      "cell_type": "code",
      "source": [
        "soup = BeautifulSoup(xml_data, 'xml')\n"
      ],
      "metadata": {
        "id": "UqcsdPSODZqW"
      },
      "execution_count": 7,
      "outputs": []
    },
    {
      "cell_type": "code",
      "source": [
        "keyword = \"green hydrogen\"\n"
      ],
      "metadata": {
        "id": "vNRwEF4QDcu9"
      },
      "execution_count": 8,
      "outputs": []
    },
    {
      "cell_type": "code",
      "source": [
        "data_list = []\n"
      ],
      "metadata": {
        "id": "VxvY-FR5E3c_"
      },
      "execution_count": 13,
      "outputs": []
    },
    {
      "cell_type": "code",
      "source": [
        "items = soup.find_all('item')\n"
      ],
      "metadata": {
        "id": "P7FqCNGMDf1x"
      },
      "execution_count": 10,
      "outputs": []
    },
    {
      "cell_type": "code",
      "source": [
        "for item in items:\n",
        "    title_element = item.find('title')\n",
        "    pub_date_element = item.find('pubDate')\n",
        "\n",
        "    if title_element and pub_date_element:\n",
        "        title = title_element.text\n",
        "        link = item.find('link').text\n",
        "        pub_date = pub_date_element.text\n",
        "    if keyword.lower() in title.lower():\n",
        "      data_list.append({'Title': title, 'Link': link, 'Published Date': pub_date})\n",
        "\n"
      ],
      "metadata": {
        "id": "t-6b81ZWEDc7"
      },
      "execution_count": 14,
      "outputs": []
    },
    {
      "cell_type": "code",
      "source": [
        "df = pd.DataFrame(data_list)\n"
      ],
      "metadata": {
        "id": "3q3EiLtvEDfu"
      },
      "execution_count": 17,
      "outputs": []
    },
    {
      "cell_type": "code",
      "source": [
        "print(df)\n"
      ],
      "metadata": {
        "colab": {
          "base_uri": "https://localhost:8080/"
        },
        "id": "2lxhOaljFTvE",
        "outputId": "3e78a77a-8ed9-4b7d-cdc7-1c46abc163ca"
      },
      "execution_count": 18,
      "outputs": [
        {
          "output_type": "stream",
          "name": "stdout",
          "text": [
            "                                                Title  \\\n",
            "0   The Hydrogen Stream: Reliance Industries to co...   \n",
            "1   Govt allocates Rs 455 crore for green hydrogen...   \n",
            "2   Daily News Wrap-Up: MNRE to Implement Green Hy...   \n",
            "3   Abu Dhabi Department Of Economic Development A...   \n",
            "4   IIPE in Visakhapatnam launches a pilot project...   \n",
            "..                                                ...   \n",
            "85  Lhyfe to build green hydrogen plant in norther...   \n",
            "86  Electrolysis Reimagined: Turning Renewable Ene...   \n",
            "87  Gujarat-The Green Hydrogen Destination of Indi...   \n",
            "88  Jakson Green to ship first green hydrogen elec...   \n",
            "89  Lhyfe begins building green hydrogen plant in ...   \n",
            "\n",
            "                                                 Link  \\\n",
            "0   https://news.google.com/rss/articles/CBMingFod...   \n",
            "1   https://news.google.com/rss/articles/CBMiiQFod...   \n",
            "2   https://news.google.com/rss/articles/CBMiT2h0d...   \n",
            "3   https://news.google.com/rss/articles/CBMijAFod...   \n",
            "4   https://news.google.com/rss/articles/CBMirQFod...   \n",
            "..                                                ...   \n",
            "85  https://news.google.com/rss/articles/CBMiVmh0d...   \n",
            "86  https://news.google.com/rss/articles/CBMiXmh0d...   \n",
            "87  https://news.google.com/rss/articles/CBMiYGh0d...   \n",
            "88  https://news.google.com/rss/articles/CBMiiQFod...   \n",
            "89  https://news.google.com/rss/articles/CBMibWh0d...   \n",
            "\n",
            "                   Published Date  \n",
            "0   Mon, 05 Feb 2024 05:52:59 GMT  \n",
            "1   Mon, 05 Feb 2024 11:23:34 GMT  \n",
            "2   Tue, 06 Feb 2024 04:36:29 GMT  \n",
            "3   Mon, 05 Feb 2024 11:25:48 GMT  \n",
            "4   Sun, 04 Feb 2024 19:15:00 GMT  \n",
            "..                            ...  \n",
            "85  Thu, 01 Feb 2024 16:10:31 GMT  \n",
            "86  Sun, 04 Feb 2024 18:29:08 GMT  \n",
            "87  Fri, 26 Jan 2024 00:07:40 GMT  \n",
            "88  Mon, 01 Jan 2024 08:00:00 GMT  \n",
            "89  Thu, 01 Feb 2024 12:03:14 GMT  \n",
            "\n",
            "[90 rows x 3 columns]\n"
          ]
        }
      ]
    }
  ]
}